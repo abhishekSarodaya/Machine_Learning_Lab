{
 "cells": [
  {
   "cell_type": "code",
   "execution_count": 24,
   "id": "78a53be8-6264-47a3-8902-c0cc6d0ff3ed",
   "metadata": {},
   "outputs": [
    {
     "name": "stdout",
     "output_type": "stream",
     "text": [
      "Requirement already satisfied: mlxtend in c:\\users\\sit.lab7\\appdata\\roaming\\python\\python312\\site-packages (0.23.4)\n",
      "Requirement already satisfied: scipy>=1.2.1 in c:\\users\\sit.lab7\\appdata\\local\\anaconda3\\lib\\site-packages (from mlxtend) (1.13.1)\n",
      "Requirement already satisfied: numpy>=1.16.2 in c:\\users\\sit.lab7\\appdata\\local\\anaconda3\\lib\\site-packages (from mlxtend) (1.26.4)\n",
      "Requirement already satisfied: pandas>=0.24.2 in c:\\users\\sit.lab7\\appdata\\local\\anaconda3\\lib\\site-packages (from mlxtend) (2.2.2)\n",
      "Requirement already satisfied: scikit-learn>=1.3.1 in c:\\users\\sit.lab7\\appdata\\local\\anaconda3\\lib\\site-packages (from mlxtend) (1.5.1)\n",
      "Requirement already satisfied: matplotlib>=3.0.0 in c:\\users\\sit.lab7\\appdata\\local\\anaconda3\\lib\\site-packages (from mlxtend) (3.9.2)\n",
      "Requirement already satisfied: joblib>=0.13.2 in c:\\users\\sit.lab7\\appdata\\local\\anaconda3\\lib\\site-packages (from mlxtend) (1.4.2)\n",
      "Requirement already satisfied: contourpy>=1.0.1 in c:\\users\\sit.lab7\\appdata\\local\\anaconda3\\lib\\site-packages (from matplotlib>=3.0.0->mlxtend) (1.2.0)\n",
      "Requirement already satisfied: cycler>=0.10 in c:\\users\\sit.lab7\\appdata\\local\\anaconda3\\lib\\site-packages (from matplotlib>=3.0.0->mlxtend) (0.11.0)\n",
      "Requirement already satisfied: fonttools>=4.22.0 in c:\\users\\sit.lab7\\appdata\\local\\anaconda3\\lib\\site-packages (from matplotlib>=3.0.0->mlxtend) (4.51.0)\n",
      "Requirement already satisfied: kiwisolver>=1.3.1 in c:\\users\\sit.lab7\\appdata\\local\\anaconda3\\lib\\site-packages (from matplotlib>=3.0.0->mlxtend) (1.4.4)\n",
      "Requirement already satisfied: packaging>=20.0 in c:\\users\\sit.lab7\\appdata\\local\\anaconda3\\lib\\site-packages (from matplotlib>=3.0.0->mlxtend) (24.1)\n",
      "Requirement already satisfied: pillow>=8 in c:\\users\\sit.lab7\\appdata\\local\\anaconda3\\lib\\site-packages (from matplotlib>=3.0.0->mlxtend) (10.4.0)\n",
      "Requirement already satisfied: pyparsing>=2.3.1 in c:\\users\\sit.lab7\\appdata\\local\\anaconda3\\lib\\site-packages (from matplotlib>=3.0.0->mlxtend) (3.1.2)\n",
      "Requirement already satisfied: python-dateutil>=2.7 in c:\\users\\sit.lab7\\appdata\\local\\anaconda3\\lib\\site-packages (from matplotlib>=3.0.0->mlxtend) (2.9.0.post0)\n",
      "Requirement already satisfied: pytz>=2020.1 in c:\\users\\sit.lab7\\appdata\\local\\anaconda3\\lib\\site-packages (from pandas>=0.24.2->mlxtend) (2024.1)\n",
      "Requirement already satisfied: tzdata>=2022.7 in c:\\users\\sit.lab7\\appdata\\local\\anaconda3\\lib\\site-packages (from pandas>=0.24.2->mlxtend) (2023.3)\n",
      "Requirement already satisfied: threadpoolctl>=3.1.0 in c:\\users\\sit.lab7\\appdata\\local\\anaconda3\\lib\\site-packages (from scikit-learn>=1.3.1->mlxtend) (3.5.0)\n",
      "Requirement already satisfied: six>=1.5 in c:\\users\\sit.lab7\\appdata\\local\\anaconda3\\lib\\site-packages (from python-dateutil>=2.7->matplotlib>=3.0.0->mlxtend) (1.16.0)\n"
     ]
    }
   ],
   "source": [
    "!pip install mlxtend\n",
    "import pandas as pd\n",
    "from mlxtend.frequent_patterns import apriori, association_rules"
   ]
  },
  {
   "cell_type": "code",
   "execution_count": 25,
   "id": "572ef559-d258-4227-95a5-cb03203e7078",
   "metadata": {},
   "outputs": [],
   "source": [
    "transactions = [\n",
    "    ['milk', 'bread', 'butter', 'cookies'],  \n",
    "    ['milk', 'bread'],                      \n",
    "    ['bread', 'butter'],                    \n",
    "    ['milk', 'bread', 'butter'],            \n",
    "    ['bread', 'cookies'],                   \n",
    "    ['milk', 'cookies'],                    \n",
    "    ['butter', 'cookies'],                  \n",
    "    ['milk', 'butter']                      \n",
    "]\n"
   ]
  },
  {
   "cell_type": "code",
   "execution_count": 26,
   "id": "582a2ad9-aceb-4c56-b0dc-b9639db70919",
   "metadata": {},
   "outputs": [],
   "source": [
    "from mlxtend.preprocessing import TransactionEncoder\n",
    "te = TransactionEncoder()\n",
    "te_array = te.fit(transactions).transform(transactions)\n",
    "df = pd.DataFrame(te_array, columns=te.columns_)"
   ]
  },
  {
   "cell_type": "code",
   "execution_count": 27,
   "id": "8ebcde28-4002-4409-b1db-4b90bdf49567",
   "metadata": {},
   "outputs": [
    {
     "name": "stdout",
     "output_type": "stream",
     "text": [
      "one Hot Encoding Transaction Data:\n",
      "   bread  butter  cookies   milk\n",
      "0   True    True     True   True\n",
      "1   True   False    False   True\n",
      "2   True    True    False  False\n",
      "3   True    True    False   True\n",
      "4   True   False     True  False\n",
      "5  False   False     True   True\n",
      "6  False    True     True  False\n",
      "7  False    True    False   True\n"
     ]
    }
   ],
   "source": [
    "print(\"one Hot Encoding Transaction Data:\")\n",
    "print(df)"
   ]
  },
  {
   "cell_type": "code",
   "execution_count": 28,
   "id": "7099ecd2-671c-44dd-99d5-8a7c116a3664",
   "metadata": {},
   "outputs": [
    {
     "name": "stdout",
     "output_type": "stream",
     "text": [
      "Frequent Itemsets:\n",
      "\n",
      "   support         itemsets\n",
      "0    0.625          (bread)\n",
      "1    0.625         (butter)\n",
      "2    0.500        (cookies)\n",
      "3    0.625           (milk)\n",
      "4    0.375  (butter, bread)\n",
      "5    0.375    (milk, bread)\n",
      "6    0.375   (milk, butter)\n"
     ]
    }
   ],
   "source": [
    "frequent_itemsets = apriori(df, min_support=0.3,use_colnames=True)\n",
    "print(\"Frequent Itemsets:\\n\")\n",
    "print(frequent_itemsets)"
   ]
  },
  {
   "cell_type": "code",
   "execution_count": 31,
   "id": "12a8d17c-bcf3-4a11-9637-cc68cd572b21",
   "metadata": {},
   "outputs": [
    {
     "name": "stdout",
     "output_type": "stream",
     "text": [
      "Associatio Rules:\n",
      "   antecedents consequents  support  confidence  lift\n",
      "0    (butter)     (bread)    0.375         0.6  0.96\n",
      "1     (bread)    (butter)    0.375         0.6  0.96\n",
      "2      (milk)     (bread)    0.375         0.6  0.96\n",
      "3     (bread)      (milk)    0.375         0.6  0.96\n",
      "4      (milk)    (butter)    0.375         0.6  0.96\n",
      "5    (butter)      (milk)    0.375         0.6  0.96\n"
     ]
    }
   ],
   "source": [
    "rules = association_rules(frequent_itemsets, metric=\"lift\", min_threshold=0.5)\n",
    "print('Associatio Rules:\\n', rules[['antecedents', 'consequents', 'support', 'confidence', 'lift']])"
   ]
  },
  {
   "cell_type": "code",
   "execution_count": 32,
   "id": "b4dfebe4-b57e-4bde-aa94-7903e992615a",
   "metadata": {},
   "outputs": [
    {
     "name": "stdout",
     "output_type": "stream",
     "text": [
      "  antecedents consequents  support  confidence  lift\n",
      "0    (butter)     (bread)    0.375         0.6  0.96\n",
      "1     (bread)    (butter)    0.375         0.6  0.96\n",
      "2      (milk)     (bread)    0.375         0.6  0.96\n",
      "3     (bread)      (milk)    0.375         0.6  0.96\n",
      "4      (milk)    (butter)    0.375         0.6  0.96\n",
      "5    (butter)      (milk)    0.375         0.6  0.96\n"
     ]
    }
   ],
   "source": [
    "rules = rules.sort_values(by = 'lift', ascending = False)\n",
    "print(rules[['antecedents', 'consequents', 'support', 'confidence', 'lift']])"
   ]
  },
  {
   "cell_type": "code",
   "execution_count": null,
   "id": "9476bbce-667b-45c0-9450-1f608442b885",
   "metadata": {},
   "outputs": [],
   "source": []
  }
 ],
 "metadata": {
  "kernelspec": {
   "display_name": "Python 3 (ipykernel)",
   "language": "python",
   "name": "python3"
  },
  "language_info": {
   "codemirror_mode": {
    "name": "ipython",
    "version": 3
   },
   "file_extension": ".py",
   "mimetype": "text/x-python",
   "name": "python",
   "nbconvert_exporter": "python",
   "pygments_lexer": "ipython3",
   "version": "3.12.7"
  }
 },
 "nbformat": 4,
 "nbformat_minor": 5
}
