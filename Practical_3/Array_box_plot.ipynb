{
  "nbformat": 4,
  "nbformat_minor": 0,
  "metadata": {
    "colab": {
      "provenance": []
    },
    "kernelspec": {
      "name": "python3",
      "display_name": "Python 3"
    },
    "language_info": {
      "name": "python"
    }
  },
  "cells": [
    {
      "cell_type": "markdown",
      "source": [
        "# Name: Abhishek Sarodaya\n",
        "# Name: 22070521197"
      ],
      "metadata": {
        "id": "n0WyPqLs18x7"
      }
    },
    {
      "cell_type": "code",
      "execution_count": 1,
      "metadata": {
        "id": "oth_FdynyW6A"
      },
      "outputs": [],
      "source": [
        "import matplotlib.pyplot as plt\n",
        "import numpy as np\n",
        "import seaborn as sns"
      ]
    },
    {
      "cell_type": "code",
      "source": [
        "arr = [100,120,130,150,180,200,220,250]\n",
        "array_length = len(arr)\n",
        "\n",
        "q1 = 0.25 * (array_length+1)\n",
        "min,max = int(q1)-1,int(q1)\n",
        "min_value = arr[min]\n",
        "max_value = arr[max]\n",
        "print(\"Min and Max value in which Q1 lies: \",min_value,max_value)\n",
        "\n",
        "q1_value = min_value + 0.25 * (max_value-min_value)\n",
        "print(\"Q1 Value is: \",q1_value)\n",
        "\n",
        "q3 = 0.75 * (array_length+1)\n",
        "min3,max3 = int(q3)-1,int(q3)\n",
        "min_value3 = arr[min3]\n",
        "max_value3 = arr[max3]\n",
        "print(\"Min and Max value in which Q3 lies: \",min_value3,max_value3)\n",
        "\n",
        "q3_value = min_value3 + 0.75 * (max_value3-min_value3)\n",
        "print(\"Q3 Value is: \",q3_value)\n",
        "\n",
        "iqr = q3_value-q1_value\n",
        "print(\"IQR: \",iqr)\n",
        "lb = q1_value - 1.5 * iqr\n",
        "ub = q3_value + 1.5 * iqr\n",
        "print(\"Lower Bound and Upper Bound\",lb,ub)"
      ],
      "metadata": {
        "colab": {
          "base_uri": "https://localhost:8080/"
        },
        "id": "T8WjKJrAyX8s",
        "outputId": "2e66e0ed-5d1d-4fa6-bb6a-2cf72fda8897"
      },
      "execution_count": 3,
      "outputs": [
        {
          "output_type": "stream",
          "name": "stdout",
          "text": [
            "Min and Max value in which Q1 lies:  120 130\n",
            "Q1 Value is:  122.5\n",
            "Min and Max value in which Q3 lies:  200 220\n",
            "Q3 Value is:  215.0\n",
            "IQR:  92.5\n",
            "Lower Bound and Upper Bound -16.25 353.75\n"
          ]
        }
      ]
    },
    {
      "cell_type": "code",
      "source": [
        "plt.figure(figsize=(8,6))\n",
        "sns.boxplot(data = arr, orient=\"h\")\n",
        "plt.title(\"Boxplot\")\n",
        "plt.show()"
      ],
      "metadata": {
        "colab": {
          "base_uri": "https://localhost:8080/",
          "height": 545
        },
        "id": "ivmcLQhWyn2z",
        "outputId": "dc7bc9f2-7bbd-402c-dcdc-f96ef16df92b"
      },
      "execution_count": 4,
      "outputs": [
        {
          "output_type": "display_data",
          "data": {
            "text/plain": [
              "<Figure size 800x600 with 1 Axes>"
            ],
            "image/png": "[encoded data removed]"
          },
          "metadata": {}
        }
      ]
    },
    {
      "cell_type": "code",
      "source": [
        "new_arr = [0,100,120,130,150,180,200,220,250,400]\n",
        "new_array_length = len(new_arr)\n",
        "\n",
        "new_q1 = 0.25 * (new_array_length+1)\n",
        "new_min,new_max = int(new_q1)-1,int(new_q1)\n",
        "new_min_value = new_arr[new_min]\n",
        "new_max_value = new_arr[new_max]\n",
        "print(\"Min and Max value in which Q1 lies: \",new_min_value,new_max_value)\n",
        "\n",
        "new_q1_value = new_min_value + 0.25 * (new_max_value-new_min_value)\n",
        "print(\"Q1 Value is: \",new_q1_value)\n",
        "\n",
        "new_q3 = 0.75 * (new_array_length+1)\n",
        "new_min3,new_max3 = int(new_q3)-1,int(new_q3)\n",
        "new_min_value3 = new_arr[new_min3]\n",
        "new_max_value3 = new_arr[new_max3]\n",
        "print(\"Min and Max value in which Q3 lies: \",new_min_value3,new_max_value3)\n",
        "new_q3_value = new_min_value3 + 0.75 * (new_max_value3-new_min_value3)\n",
        "print(\"Q3 Value is: \",new_q3_value)\n",
        "\n",
        "new_iqr = new_q3_value-new_q1_value\n",
        "print(\"IQR: \",new_iqr)\n",
        "\n",
        "new_lb = new_q1_value - 1.5 * new_iqr\n",
        "new_ub = new_q3_value + 1.5 * new_iqr\n",
        "print(\"Lower Bound and Upper Bound\",new_lb,new_ub)"
      ],
      "metadata": {
        "colab": {
          "base_uri": "https://localhost:8080/"
        },
        "id": "YM4JvwZEzA8W",
        "outputId": "d44ea2f5-a66e-4cd9-fe6b-323a6a01bb6d"
      },
      "execution_count": 5,
      "outputs": [
        {
          "output_type": "stream",
          "name": "stdout",
          "text": [
            "Min and Max value in which Q1 lies:  100 120\n",
            "Q1 Value is:  105.0\n",
            "Min and Max value in which Q3 lies:  220 250\n",
            "Q3 Value is:  242.5\n",
            "IQR:  137.5\n",
            "Lower Bound and Upper Bound -101.25 448.75\n"
          ]
        }
      ]
    },
    {
      "cell_type": "code",
      "source": [
        "plt.figure(figsize=(8,6))\n",
        "sns.boxplot(data = new_arr, orient=\"h\")\n",
        "plt.title(\"Boxplot\")\n",
        "plt.show()"
      ],
      "metadata": {
        "colab": {
          "base_uri": "https://localhost:8080/",
          "height": 545
        },
        "id": "w43HfdpOzUKy",
        "outputId": "50011f4e-019b-4e9d-d5c2-198cdf912325"
      },
      "execution_count": 6,
      "outputs": [
        {
          "output_type": "display_data",
          "data": {
            "text/plain": [
              "<Figure size 800x600 with 1 Axes>"
            ],
            "image/png": "[encoded data removed]"
          },
          "metadata": {}
        }
      ]
    },
    {
      "cell_type": "code",
      "source": [],
      "metadata": {
        "id": "vrMfh_zWzW2n"
      },
      "execution_count": null,
      "outputs": []
    }
  ]
}