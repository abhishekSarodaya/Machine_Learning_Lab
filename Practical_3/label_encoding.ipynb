{
  "nbformat": 4,
  "nbformat_minor": 0,
  "metadata": {
    "colab": {
      "provenance": []
    },
    "kernelspec": {
      "name": "python3",
      "display_name": "Python 3"
    },
    "language_info": {
      "name": "python"
    }
  },
  "cells": [
    {
      "cell_type": "code",
      "execution_count": 1,
      "metadata": {
        "colab": {
          "base_uri": "https://localhost:8080/"
        },
        "id": "TFA9Tti_2uYW",
        "outputId": "6bb12fa2-e959-42a5-9316-71314b5287fe"
      },
      "outputs": [
        {
          "output_type": "stream",
          "name": "stdout",
          "text": [
            "Before Label Encoding:\n",
            " 0         setosa\n",
            "1         setosa\n",
            "2         setosa\n",
            "3         setosa\n",
            "4         setosa\n",
            "         ...    \n",
            "125    virginica\n",
            "126    virginica\n",
            "127    virginica\n",
            "128    virginica\n",
            "129    virginica\n",
            "Name: species, Length: 130, dtype: object\n",
            "\n",
            "After Label Encoding:\n",
            "        species  species_encoded\n",
            "0       setosa                0\n",
            "1       setosa                0\n",
            "2       setosa                0\n",
            "3       setosa                0\n",
            "4       setosa                0\n",
            "..         ...              ...\n",
            "125  virginica                2\n",
            "126  virginica                2\n",
            "127  virginica                2\n",
            "128  virginica                2\n",
            "129  virginica                2\n",
            "\n",
            "[130 rows x 2 columns]\n"
          ]
        }
      ],
      "source": [
        "import pandas as pd\n",
        "import matplotlib.pyplot as plt\n",
        "import seaborn as sns\n",
        "from sklearn.datasets import load_iris\n",
        "from sklearn.preprocessing import LabelEncoder\n",
        "\n",
        "# Load the Iris dataset\n",
        "iris = load_iris()\n",
        "\n",
        "# Create a Pandas DataFrame from the Iris data\n",
        "df = pd.DataFrame(data=iris.data, columns=iris.feature_names)\n",
        "# Add the species column to the DataFrame\n",
        "df['species'] = [iris.target_names[i] for i in iris.target]\n",
        "\n",
        "\n",
        "# Print the 'species' column before applying Label Encoding\n",
        "print(\"Before Label Encoding:\\n\", df['species'].head(130))\n",
        "\n",
        "# Apply Label Encoding to the 'species' column\n",
        "le = LabelEncoder()\n",
        "df['species_encoded'] = le.fit_transform(df['species'])\n",
        "\n",
        "\n",
        "# Print the 'species' and 'species_encoded' columns after applying Label Encoding\n",
        "print(\"\\nAfter Label Encoding:\\n\", df[['species', 'species_encoded']].head(130))"
      ]
    },
    {
      "cell_type": "code",
      "source": [
        "print(\"ONE-HOT-ENCODING\")\n",
        "\n",
        "# Apply one-hot encoding to the 'species' column\n",
        "one_hot_encoded = pd.get_dummies(df['species'], prefix='species')\n",
        "# Concatenate the one-hot encoded columns to the original DataFrame\n",
        "df_encoded = pd.concat([df, one_hot_encoded], axis=1)\n",
        "# Print the DataFrame with one-hot encoded columns\n",
        "print(df_encoded)\n",
        "# Create a countplot to visualize the distribution of species\n",
        "plt.figure(figsize=(8, 6))\n",
        "sns.countplot(x='species', data=df)\n",
        "plt.title('Countplot of Iris Species')\n",
        "plt.show()"
      ],
      "metadata": {
        "colab": {
          "base_uri": "https://localhost:8080/",
          "height": 1000
        },
        "id": "PCkISNyB2zLk",
        "outputId": "1db9230a-24e7-4915-bd29-1011d61737be"
      },
      "execution_count": 2,
      "outputs": [
        {
          "output_type": "stream",
          "name": "stdout",
          "text": [
            "ONE-HOT-ENCODING\n",
            "     sepal length (cm)  sepal width (cm)  petal length (cm)  petal width (cm)  \\\n",
            "0                  5.1               3.5                1.4               0.2   \n",
            "1                  4.9               3.0                1.4               0.2   \n",
            "2                  4.7               3.2                1.3               0.2   \n",
            "3                  4.6               3.1                1.5               0.2   \n",
            "4                  5.0               3.6                1.4               0.2   \n",
            "..                 ...               ...                ...               ...   \n",
            "145                6.7               3.0                5.2               2.3   \n",
            "146                6.3               2.5                5.0               1.9   \n",
            "147                6.5               3.0                5.2               2.0   \n",
            "148                6.2               3.4                5.4               2.3   \n",
            "149                5.9               3.0                5.1               1.8   \n",
            "\n",
            "       species  species_encoded  species_setosa  species_versicolor  \\\n",
            "0       setosa                0            True               False   \n",
            "1       setosa                0            True               False   \n",
            "2       setosa                0            True               False   \n",
            "3       setosa                0            True               False   \n",
            "4       setosa                0            True               False   \n",
            "..         ...              ...             ...                 ...   \n",
            "145  virginica                2           False               False   \n",
            "146  virginica                2           False               False   \n",
            "147  virginica                2           False               False   \n",
            "148  virginica                2           False               False   \n",
            "149  virginica                2           False               False   \n",
            "\n",
            "     species_virginica  \n",
            "0                False  \n",
            "1                False  \n",
            "2                False  \n",
            "3                False  \n",
            "4                False  \n",
            "..                 ...  \n",
            "145               True  \n",
            "146               True  \n",
            "147               True  \n",
            "148               True  \n",
            "149               True  \n",
            "\n",
            "[150 rows x 9 columns]\n"
          ]
        },
        {
          "output_type": "display_data",
          "data": {
            "text/plain": [
              "<Figure size 800x600 with 1 Axes>"
            ],
            "image/png": "[encoded data removed]"
          },
          "metadata": {}
        }
      ]
    },
    {
      "cell_type": "code",
      "source": [],
      "metadata": {
        "id": "fjfGInrp25B1"
      },
      "execution_count": null,
      "outputs": []
    }
  ]
}